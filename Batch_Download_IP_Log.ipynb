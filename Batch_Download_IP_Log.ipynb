{
 "cells": [
  {
   "cell_type": "code",
   "execution_count": null,
   "metadata": {},
   "outputs": [],
   "source": [
    "import os\n",
    "import requests\n",
    "from pathlib import Path \n",
    "\n",
    "#enter file path to Batch_Download_IP_Log.txt\n",
    "file_path = '/home/admin-dir/Batch_Download_IP_Log.txt'\n",
    "#enter the file path to folder where downloads will be saved\n",
    "dir_path = '/home/admin-dir/Batch_Download_IP_Log'\n",
    "#open text file with links for reading and iterate through the links\n",
    "with open(file_path, 'r') as file:\n",
    "    for line in file:\n",
    "#strip trailing characters and append http:// to the link        \n",
    "        line = 'http://' + line.rstrip()\n",
    "#extract name of file from url and save to file_name variable\n",
    "        file_name = (os.path.basename(line))\n",
    "#create path where downloaded file will be saved\n",
    "        download_path = os.path.join(dir_path, file_name)\n",
    "#download the file from url        \n",
    "        download = requests.get(line)\n",
    "#save file to download_path location         \n",
    "        with open(download_path, \"wb\") as file:\n",
    "            file.write(download.content)     "
   ]
  }
 ],
 "metadata": {
  "kernelspec": {
   "display_name": "Python 3",
   "language": "python",
   "name": "python3"
  },
  "language_info": {
   "codemirror_mode": {
    "name": "ipython",
    "version": 3
   },
   "file_extension": ".py",
   "mimetype": "text/x-python",
   "name": "python",
   "nbconvert_exporter": "python",
   "pygments_lexer": "ipython3",
   "version": "3.8.3"
  }
 },
 "nbformat": 4,
 "nbformat_minor": 4
}
